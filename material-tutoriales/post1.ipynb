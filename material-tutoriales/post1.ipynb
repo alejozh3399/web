{
 "cells": [
  {
   "cell_type": "markdown",
   "metadata": {},
   "source": [
    "# Análisis de calificaciones"
   ]
  },
  {
   "cell_type": "markdown",
   "metadata": {},
   "source": [
    "Hola, este es el código del análisis de calificaciones"
   ]
  },
  {
   "cell_type": "code",
   "execution_count": 1,
   "metadata": {},
   "outputs": [],
   "source": [
    "# Primero cargamos las librerías\n",
    "import keras as keras\n",
    "import matplotlib.pyplot as plt\n",
    "import numpy as np\n",
    "import pandas as pd\n",
    "import seaborn as sns\n",
    "import tensorflow as tf\n",
    "from keras import layers\n",
    "from sklearn.ensemble import RandomForestRegressor\n",
    "from sklearn.metrics import mean_absolute_error, mean_squared_error\n",
    "from sklearn.model_selection import train_test_split\n",
    "from sklearn.svm import SVR\n"
   ]
  },
  {
   "cell_type": "code",
   "execution_count": 2,
   "metadata": {},
   "outputs": [],
   "source": [
    "# Cargamos los datos\n",
    "data = pd.read_csv(\n",
    "    'C:/Users/crisd/OneDrive/Escritorio/Blog/crisdavid3335.github.io/material-tutoriales/calificaciones-de-matematicas.csv')\n"
   ]
  },
  {
   "cell_type": "code",
   "execution_count": 3,
   "metadata": {},
   "outputs": [
    {
     "data": {
      "text/html": [
       "<div>\n",
       "<style scoped>\n",
       "    .dataframe tbody tr th:only-of-type {\n",
       "        vertical-align: middle;\n",
       "    }\n",
       "\n",
       "    .dataframe tbody tr th {\n",
       "        vertical-align: top;\n",
       "    }\n",
       "\n",
       "    .dataframe thead th {\n",
       "        text-align: right;\n",
       "    }\n",
       "</style>\n",
       "<table border=\"1\" class=\"dataframe\">\n",
       "  <thead>\n",
       "    <tr style=\"text-align: right;\">\n",
       "      <th></th>\n",
       "      <th>school</th>\n",
       "      <th>sex</th>\n",
       "      <th>age</th>\n",
       "      <th>address</th>\n",
       "      <th>famsize</th>\n",
       "      <th>Pstatus</th>\n",
       "      <th>Medu</th>\n",
       "      <th>Fedu</th>\n",
       "      <th>Mjob</th>\n",
       "      <th>Fjob</th>\n",
       "      <th>...</th>\n",
       "      <th>famrel</th>\n",
       "      <th>freetime</th>\n",
       "      <th>goout</th>\n",
       "      <th>Dalc</th>\n",
       "      <th>Walc</th>\n",
       "      <th>health</th>\n",
       "      <th>absences</th>\n",
       "      <th>G1</th>\n",
       "      <th>G2</th>\n",
       "      <th>G3</th>\n",
       "    </tr>\n",
       "  </thead>\n",
       "  <tbody>\n",
       "    <tr>\n",
       "      <th>0</th>\n",
       "      <td>GP</td>\n",
       "      <td>F</td>\n",
       "      <td>18</td>\n",
       "      <td>U</td>\n",
       "      <td>GT3</td>\n",
       "      <td>A</td>\n",
       "      <td>4</td>\n",
       "      <td>4</td>\n",
       "      <td>at_home</td>\n",
       "      <td>teacher</td>\n",
       "      <td>...</td>\n",
       "      <td>4</td>\n",
       "      <td>3</td>\n",
       "      <td>4</td>\n",
       "      <td>1</td>\n",
       "      <td>1</td>\n",
       "      <td>3</td>\n",
       "      <td>6</td>\n",
       "      <td>5</td>\n",
       "      <td>6</td>\n",
       "      <td>6</td>\n",
       "    </tr>\n",
       "    <tr>\n",
       "      <th>1</th>\n",
       "      <td>GP</td>\n",
       "      <td>F</td>\n",
       "      <td>17</td>\n",
       "      <td>U</td>\n",
       "      <td>GT3</td>\n",
       "      <td>T</td>\n",
       "      <td>1</td>\n",
       "      <td>1</td>\n",
       "      <td>at_home</td>\n",
       "      <td>other</td>\n",
       "      <td>...</td>\n",
       "      <td>5</td>\n",
       "      <td>3</td>\n",
       "      <td>3</td>\n",
       "      <td>1</td>\n",
       "      <td>1</td>\n",
       "      <td>3</td>\n",
       "      <td>4</td>\n",
       "      <td>5</td>\n",
       "      <td>5</td>\n",
       "      <td>6</td>\n",
       "    </tr>\n",
       "    <tr>\n",
       "      <th>2</th>\n",
       "      <td>GP</td>\n",
       "      <td>F</td>\n",
       "      <td>15</td>\n",
       "      <td>U</td>\n",
       "      <td>LE3</td>\n",
       "      <td>T</td>\n",
       "      <td>1</td>\n",
       "      <td>1</td>\n",
       "      <td>at_home</td>\n",
       "      <td>other</td>\n",
       "      <td>...</td>\n",
       "      <td>4</td>\n",
       "      <td>3</td>\n",
       "      <td>2</td>\n",
       "      <td>2</td>\n",
       "      <td>3</td>\n",
       "      <td>3</td>\n",
       "      <td>10</td>\n",
       "      <td>7</td>\n",
       "      <td>8</td>\n",
       "      <td>10</td>\n",
       "    </tr>\n",
       "    <tr>\n",
       "      <th>3</th>\n",
       "      <td>GP</td>\n",
       "      <td>F</td>\n",
       "      <td>15</td>\n",
       "      <td>U</td>\n",
       "      <td>GT3</td>\n",
       "      <td>T</td>\n",
       "      <td>4</td>\n",
       "      <td>2</td>\n",
       "      <td>health</td>\n",
       "      <td>services</td>\n",
       "      <td>...</td>\n",
       "      <td>3</td>\n",
       "      <td>2</td>\n",
       "      <td>2</td>\n",
       "      <td>1</td>\n",
       "      <td>1</td>\n",
       "      <td>5</td>\n",
       "      <td>2</td>\n",
       "      <td>15</td>\n",
       "      <td>14</td>\n",
       "      <td>15</td>\n",
       "    </tr>\n",
       "    <tr>\n",
       "      <th>4</th>\n",
       "      <td>GP</td>\n",
       "      <td>F</td>\n",
       "      <td>16</td>\n",
       "      <td>U</td>\n",
       "      <td>GT3</td>\n",
       "      <td>T</td>\n",
       "      <td>3</td>\n",
       "      <td>3</td>\n",
       "      <td>other</td>\n",
       "      <td>other</td>\n",
       "      <td>...</td>\n",
       "      <td>4</td>\n",
       "      <td>3</td>\n",
       "      <td>2</td>\n",
       "      <td>1</td>\n",
       "      <td>2</td>\n",
       "      <td>5</td>\n",
       "      <td>4</td>\n",
       "      <td>6</td>\n",
       "      <td>10</td>\n",
       "      <td>10</td>\n",
       "    </tr>\n",
       "  </tbody>\n",
       "</table>\n",
       "<p>5 rows × 33 columns</p>\n",
       "</div>"
      ],
      "text/plain": [
       "  school sex  age address famsize Pstatus  Medu  Fedu     Mjob      Fjob  ...  \\\n",
       "0     GP   F   18       U     GT3       A     4     4  at_home   teacher  ...   \n",
       "1     GP   F   17       U     GT3       T     1     1  at_home     other  ...   \n",
       "2     GP   F   15       U     LE3       T     1     1  at_home     other  ...   \n",
       "3     GP   F   15       U     GT3       T     4     2   health  services  ...   \n",
       "4     GP   F   16       U     GT3       T     3     3    other     other  ...   \n",
       "\n",
       "  famrel freetime  goout  Dalc  Walc health absences  G1  G2  G3  \n",
       "0      4        3      4     1     1      3        6   5   6   6  \n",
       "1      5        3      3     1     1      3        4   5   5   6  \n",
       "2      4        3      2     2     3      3       10   7   8  10  \n",
       "3      3        2      2     1     1      5        2  15  14  15  \n",
       "4      4        3      2     1     2      5        4   6  10  10  \n",
       "\n",
       "[5 rows x 33 columns]"
      ]
     },
     "execution_count": 3,
     "metadata": {},
     "output_type": "execute_result"
    }
   ],
   "source": [
    "# Abrimos los datos de los primeros 5 estudiantes\n",
    "data.head()\n"
   ]
  },
  {
   "cell_type": "code",
   "execution_count": 4,
   "metadata": {},
   "outputs": [
    {
     "data": {
      "text/plain": [
       "(395, 33)"
      ]
     },
     "execution_count": 4,
     "metadata": {},
     "output_type": "execute_result"
    }
   ],
   "source": [
    "# Revisamos las dimensiones de los datos\n",
    "data.shape\n"
   ]
  },
  {
   "cell_type": "code",
   "execution_count": 5,
   "metadata": {},
   "outputs": [
    {
     "data": {
      "text/plain": [
       "Index(['school', 'sex', 'age', 'address', 'famsize', 'Pstatus', 'Medu', 'Fedu',\n",
       "       'Mjob', 'Fjob', 'reason', 'guardian', 'traveltime', 'studytime',\n",
       "       'failures', 'schoolsup', 'famsup', 'paid', 'activities', 'nursery',\n",
       "       'higher', 'internet', 'romantic', 'famrel', 'freetime', 'goout', 'Dalc',\n",
       "       'Walc', 'health', 'absences', 'G1', 'G2', 'G3'],\n",
       "      dtype='object')"
      ]
     },
     "execution_count": 5,
     "metadata": {},
     "output_type": "execute_result"
    }
   ],
   "source": [
    "# Nombres de las variables\n",
    "data.columns"
   ]
  },
  {
   "cell_type": "code",
   "execution_count": 6,
   "metadata": {},
   "outputs": [
    {
     "data": {
      "text/plain": [
       "count    395.000000\n",
       "mean      10.415190\n",
       "std        4.581443\n",
       "min        0.000000\n",
       "25%        8.000000\n",
       "50%       11.000000\n",
       "75%       14.000000\n",
       "max       20.000000\n",
       "Name: G3, dtype: float64"
      ]
     },
     "execution_count": 6,
     "metadata": {},
     "output_type": "execute_result"
    }
   ],
   "source": [
    "# Nuestra variable objetivo es 'G3' porque es la variable que queremos predecir\n",
    "data['G3'].describe()\n"
   ]
  },
  {
   "cell_type": "code",
   "execution_count": 7,
   "metadata": {},
   "outputs": [
    {
     "data": {
      "image/png": "[encoded data removed]",
      "text/plain": [
       "<Figure size 432x288 with 1 Axes>"
      ]
     },
     "metadata": {
      "needs_background": "light"
     },
     "output_type": "display_data"
    }
   ],
   "source": [
    "# Gráfico de las calificaciones finales\n",
    "target = sns.countplot(x='G3', data=data)\n",
    "target.axes.set_title('Distribución de la calificación final', fontsize=30)\n",
    "target.set_xlabel('Calificación final', fontsize=20)\n",
    "target.set_ylabel('Calificaciones', fontsize=20)\n",
    "plt.show()\n"
   ]
  },
  {
   "cell_type": "code",
   "execution_count": 8,
   "metadata": {},
   "outputs": [
    {
     "data": {
      "text/plain": [
       "school        False\n",
       "sex           False\n",
       "age           False\n",
       "address       False\n",
       "famsize       False\n",
       "Pstatus       False\n",
       "Medu          False\n",
       "Fedu          False\n",
       "Mjob          False\n",
       "Fjob          False\n",
       "reason        False\n",
       "guardian      False\n",
       "traveltime    False\n",
       "studytime     False\n",
       "failures      False\n",
       "schoolsup     False\n",
       "famsup        False\n",
       "paid          False\n",
       "activities    False\n",
       "nursery       False\n",
       "higher        False\n",
       "internet      False\n",
       "romantic      False\n",
       "famrel        False\n",
       "freetime      False\n",
       "goout         False\n",
       "Dalc          False\n",
       "Walc          False\n",
       "health        False\n",
       "absences      False\n",
       "G1            False\n",
       "G2            False\n",
       "G3            False\n",
       "dtype: bool"
      ]
     },
     "execution_count": 8,
     "metadata": {},
     "output_type": "execute_result"
    }
   ],
   "source": [
    "# Valores nulos por variable\n",
    "data.isnull().any()\n"
   ]
  },
  {
   "cell_type": "code",
   "execution_count": 9,
   "metadata": {},
   "outputs": [
    {
     "name": "stdout",
     "output_type": "stream",
     "text": [
      "<class 'pandas.core.frame.DataFrame'>\n",
      "RangeIndex: 395 entries, 0 to 394\n",
      "Data columns (total 33 columns):\n",
      " #   Column      Non-Null Count  Dtype \n",
      "---  ------      --------------  ----- \n",
      " 0   school      395 non-null    object\n",
      " 1   sex         395 non-null    object\n",
      " 2   age         395 non-null    int64 \n",
      " 3   address     395 non-null    object\n",
      " 4   famsize     395 non-null    object\n",
      " 5   Pstatus     395 non-null    object\n",
      " 6   Medu        395 non-null    int64 \n",
      " 7   Fedu        395 non-null    int64 \n",
      " 8   Mjob        395 non-null    object\n",
      " 9   Fjob        395 non-null    object\n",
      " 10  reason      395 non-null    object\n",
      " 11  guardian    395 non-null    object\n",
      " 12  traveltime  395 non-null    int64 \n",
      " 13  studytime   395 non-null    int64 \n",
      " 14  failures    395 non-null    int64 \n",
      " 15  schoolsup   395 non-null    object\n",
      " 16  famsup      395 non-null    object\n",
      " 17  paid        395 non-null    object\n",
      " 18  activities  395 non-null    object\n",
      " 19  nursery     395 non-null    object\n",
      " 20  higher      395 non-null    object\n",
      " 21  internet    395 non-null    object\n",
      " 22  romantic    395 non-null    object\n",
      " 23  famrel      395 non-null    int64 \n",
      " 24  freetime    395 non-null    int64 \n",
      " 25  goout       395 non-null    int64 \n",
      " 26  Dalc        395 non-null    int64 \n",
      " 27  Walc        395 non-null    int64 \n",
      " 28  health      395 non-null    int64 \n",
      " 29  absences    395 non-null    int64 \n",
      " 30  G1          395 non-null    int64 \n",
      " 31  G2          395 non-null    int64 \n",
      " 32  G3          395 non-null    int64 \n",
      "dtypes: int64(16), object(17)\n",
      "memory usage: 102.0+ KB\n"
     ]
    }
   ],
   "source": [
    "# Valores nulos (cantidad) y tipo de variable por variable\n",
    "data.info()"
   ]
  },
  {
   "cell_type": "code",
   "execution_count": 10,
   "metadata": {},
   "outputs": [
    {
     "name": "stdout",
     "output_type": "stream",
     "text": [
      "Número de estudiantes hombres: 187\n",
      "Número de estudiantes mujeres: 208\n"
     ]
    }
   ],
   "source": [
    "# Generamos variables para el sexo de los estudiantes\n",
    "students_m = len(data[data['sex'] == 'M'])\n",
    "students_f = len(data[data['sex'] == 'F'])\n",
    "print(f'Número de estudiantes hombres: {students_m}')\n",
    "print(f'Número de estudiantes mujeres: {students_f}')\n"
   ]
  },
  {
   "cell_type": "code",
   "execution_count": 11,
   "metadata": {},
   "outputs": [
    {
     "data": {
      "image/png": "[encoded data removed]",
      "text/plain": [
       "<Figure size 432x288 with 1 Axes>"
      ]
     },
     "metadata": {
      "needs_background": "light"
     },
     "output_type": "display_data"
    }
   ],
   "source": [
    "# Gráfico de los estudiantes por sexo y por edad\n",
    "sex_students = sns.countplot(x='age', hue='sex', data=data)\n",
    "sex_students.axes.set_title('Grupos por edad', fontsize=30)\n",
    "sex_students.set_xlabel('Edad', fontsize=20)\n",
    "sex_students.set_ylabel('Estudiantes', fontsize=20)\n",
    "sex_students.legend(['Mujeres', 'Hombres'], loc='upper right')\n",
    "plt.show()\n"
   ]
  },
  {
   "cell_type": "code",
   "execution_count": 12,
   "metadata": {},
   "outputs": [
    {
     "data": {
      "image/png": "[encoded data removed]",
      "text/plain": [
       "<Figure size 432x288 with 1 Axes>"
      ]
     },
     "metadata": {
      "needs_background": "light"
     },
     "output_type": "display_data"
    }
   ],
   "source": [
    "# Gráfico de los estudiantes por dirección\n",
    "address_students = sns.countplot(x='address', data=data)\n",
    "address_students.axes.set_title('Estudiantes rurales vs urbanos', fontsize=30)\n",
    "address_students.set_xlabel('Sector', fontsize=20)\n",
    "address_students.set_ylabel('Estudiantes', fontsize=20)\n",
    "plt.show()\n"
   ]
  },
  {
   "cell_type": "code",
   "execution_count": 13,
   "metadata": {},
   "outputs": [
    {
     "data": {
      "text/plain": [
       "G3            1.000000\n",
       "G2            0.904868\n",
       "G1            0.801468\n",
       "Medu          0.217147\n",
       "Fedu          0.152457\n",
       "studytime     0.097820\n",
       "famrel        0.051363\n",
       "absences      0.034247\n",
       "freetime      0.011307\n",
       "Walc         -0.051939\n",
       "Dalc         -0.054660\n",
       "health       -0.061335\n",
       "traveltime   -0.117142\n",
       "goout        -0.132791\n",
       "age          -0.161579\n",
       "failures     -0.360415\n",
       "Name: G3, dtype: float64"
      ]
     },
     "execution_count": 13,
     "metadata": {},
     "output_type": "execute_result"
    }
   ],
   "source": [
    "# Las variables que más se asocian con la calificación final\n",
    "data.corr()['G3'].sort_values(ascending=False)\n"
   ]
  },
  {
   "cell_type": "code",
   "execution_count": 14,
   "metadata": {},
   "outputs": [],
   "source": [
    "# Eliminamos las variables que no aportan mucha información\n",
    "data.drop(['school'], axis=1, inplace=True)\n"
   ]
  },
  {
   "cell_type": "code",
   "execution_count": 15,
   "metadata": {},
   "outputs": [],
   "source": [
    "# Generamos el conjunto de datos total\n",
    "data_total = data.copy()\n",
    "# Vamos a convertir estas variables a datos binarios (1 y 0)\n",
    "categorical_d = {'yes': 1, 'no': 0}\n",
    "\n",
    "data_total['schoolsup'] = data_total['schoolsup'].map(categorical_d)\n",
    "data_total['famsup'] = data_total['famsup'].map(categorical_d)\n",
    "data_total['paid'] = data_total['paid'].map(categorical_d)\n",
    "data_total['activities'] = data_total['activities'].map(categorical_d)\n",
    "data_total['nursery'] = data_total['nursery'].map(categorical_d)\n",
    "data_total['higher'] = data_total['higher'].map(categorical_d)\n",
    "data_total['internet'] = data_total['internet'].map(categorical_d)\n",
    "data_total['romantic'] = data_total['romantic'].map(categorical_d)\n"
   ]
  },
  {
   "cell_type": "code",
   "execution_count": 16,
   "metadata": {},
   "outputs": [],
   "source": [
    "# Convertimos las demas variables a datos binarios\n",
    "categorical_d = {'F': 1, 'M': 0}\n",
    "data_total['sex'] = data_total['sex'].map(categorical_d)\n",
    "\n",
    "categorical_d = {'U': 1, 'R': 0}\n",
    "data_total['address'] = data_total['address'].map(categorical_d)\n",
    "\n",
    "categorical_d = {'LE3': 1, 'GT3': 0}\n",
    "data_total['famsize'] = data_total['famsize'].map(categorical_d)\n",
    "\n",
    "categorical_d = {'T': 1, 'A': 0}\n",
    "data_total['Pstatus'] = data_total['Pstatus'].map(categorical_d)\n",
    "\n",
    "categorical_d = {'teacher': 0, 'health': 1,\n",
    "                'services': 2, 'at_home': 3, 'other': 4}\n",
    "data_total['Mjob'] = data_total['Mjob'].map(categorical_d)\n",
    "data_total['Fjob'] = data_total['Fjob'].map(categorical_d)\n",
    "\n",
    "categorical_d = {'home': 0, 'reputation': 1, 'course': 2, 'other': 3}\n",
    "data_total['reason'] = data_total['reason'].map(categorical_d)\n",
    "\n",
    "categorical_d = {'mother': 0, 'father': 1, 'other': 2}\n",
    "data_total['guardian'] = data_total['guardian'].map(categorical_d)\n"
   ]
  },
  {
   "cell_type": "code",
   "execution_count": 17,
   "metadata": {},
   "outputs": [],
   "source": [
    "# Dividimos los conjuntos de datos y de objetivos\n",
    "X = data_total.drop('G3', axis=1)\n",
    "y = data_total['G3']\n"
   ]
  },
  {
   "cell_type": "code",
   "execution_count": 18,
   "metadata": {},
   "outputs": [],
   "source": [
    "# Dividimos los conjuntos de prueba y evaluación\n",
    "X_train, X_test, y_train, y_test = train_test_split(\n",
    "    X, y, test_size=0.2, random_state=0)\n"
   ]
  },
  {
   "cell_type": "code",
   "execution_count": 19,
   "metadata": {},
   "outputs": [],
   "source": [
    "# Cargamos los modelos que vamos a usar (aprendizaje automático)\n",
    "svm_model = SVR()\n",
    "rf_model = RandomForestRegressor(n_estimators=150)\n"
   ]
  },
  {
   "cell_type": "code",
   "execution_count": 20,
   "metadata": {},
   "outputs": [
    {
     "data": {
      "text/plain": [
       "RandomForestRegressor(n_estimators=150)"
      ]
     },
     "execution_count": 20,
     "metadata": {},
     "output_type": "execute_result"
    }
   ],
   "source": [
    "# Entrenamos los modelos de aprendizaje automático\n",
    "svm_model.fit(X_train, y_train)\n",
    "rf_model.fit(X_train, y_train)\n"
   ]
  },
  {
   "cell_type": "code",
   "execution_count": 21,
   "metadata": {},
   "outputs": [],
   "source": [
    "# Generamos las predicciones\n",
    "y_svm_model = svm_model.predict(X_test)\n",
    "y_rf_model = rf_model.predict(X_test)"
   ]
  },
  {
   "cell_type": "code",
   "execution_count": 22,
   "metadata": {},
   "outputs": [],
   "source": [
    "# Evaluamos los modelos\n",
    "# Error cuadratico medio\n",
    "score_svm_mse = mean_squared_error(y_svm_model, y_test)\n",
    "score_rf_mse = mean_squared_error(y_rf_model, y_test)\n",
    "# Error absoluto medio\n",
    "score_svm_mae = mean_absolute_error(y_svm_model, y_test)\n",
    "score_rf_mae = mean_absolute_error(y_rf_model, y_test)"
   ]
  },
  {
   "cell_type": "code",
   "execution_count": 23,
   "metadata": {},
   "outputs": [
    {
     "name": "stdout",
     "output_type": "stream",
     "text": [
      "MSE para el modelo de maquinas de soporte: 6.46 \n",
      "MSE para el modelo de bosque aleatorio:  3.49\n",
      "MAE para el modelo de maquinas de soporte: 1.52 \n",
      "MAE para el modelo de bosque aleatorio:  1.08\n"
     ]
    }
   ],
   "source": [
    "# Error de los modelos\n",
    "print('MSE para el modelo de maquinas de soporte:', round(score_svm_mse, 2),\n",
    "    '\\nMSE para el modelo de bosque aleatorio: ', round(score_rf_mse, 2))\n",
    "print('MAE para el modelo de maquinas de soporte:', round(score_svm_mae, 2),\n",
    "    '\\nMAE para el modelo de bosque aleatorio: ', round(score_rf_mae, 2))\n"
   ]
  },
  {
   "cell_type": "code",
   "execution_count": 24,
   "metadata": {},
   "outputs": [],
   "source": [
    "# Ahora usaremos una red neuronal\n",
    "# Definimos el modelo\n",
    "nn_model = keras.Sequential([\n",
    "    layers.Dense(64, activation='relu'),\n",
    "    layers.Dense(64, activation='relu'),\n",
    "    layers.Dense(1)])\n"
   ]
  },
  {
   "cell_type": "code",
   "execution_count": 25,
   "metadata": {},
   "outputs": [],
   "source": [
    "# Compilamos el modelo\n",
    "nn_model.compile(optimizer='rmsprop', loss='mse', metrics=['mae'])"
   ]
  },
  {
   "cell_type": "code",
   "execution_count": 26,
   "metadata": {},
   "outputs": [
    {
     "name": "stdout",
     "output_type": "stream",
     "text": [
      "Epoch 1/100\n",
      "8/8 [==============================] - 1s 27ms/step - loss: 34.4077 - mae: 4.9928 - val_loss: 11.8196 - val_mae: 2.6586\n",
      "Epoch 2/100\n",
      "8/8 [==============================] - 0s 4ms/step - loss: 9.5103 - mae: 2.1773 - val_loss: 8.9444 - val_mae: 2.2020\n",
      "Epoch 3/100\n",
      "8/8 [==============================] - 0s 4ms/step - loss: 7.6568 - mae: 1.9194 - val_loss: 6.9189 - val_mae: 1.8006\n",
      "Epoch 4/100\n",
      "8/8 [==============================] - 0s 5ms/step - loss: 6.5179 - mae: 1.6966 - val_loss: 6.4359 - val_mae: 2.0040\n",
      "Epoch 5/100\n",
      "8/8 [==============================] - 0s 5ms/step - loss: 5.3742 - mae: 1.5438 - val_loss: 4.8553 - val_mae: 1.6206\n",
      "Epoch 6/100\n",
      "8/8 [==============================] - 0s 5ms/step - loss: 4.4146 - mae: 1.3748 - val_loss: 3.9229 - val_mae: 1.2837\n",
      "Epoch 7/100\n",
      "8/8 [==============================] - 0s 4ms/step - loss: 4.2491 - mae: 1.3826 - val_loss: 3.5705 - val_mae: 1.2763\n",
      "Epoch 8/100\n",
      "8/8 [==============================] - 0s 5ms/step - loss: 3.7526 - mae: 1.2743 - val_loss: 3.4754 - val_mae: 1.3690\n",
      "Epoch 9/100\n",
      "8/8 [==============================] - 0s 4ms/step - loss: 3.4834 - mae: 1.2525 - val_loss: 3.3240 - val_mae: 1.1555\n",
      "Epoch 10/100\n",
      "8/8 [==============================] - 0s 5ms/step - loss: 3.5880 - mae: 1.2796 - val_loss: 3.2203 - val_mae: 1.1516\n",
      "Epoch 11/100\n",
      "8/8 [==============================] - 0s 5ms/step - loss: 3.7603 - mae: 1.3371 - val_loss: 3.8382 - val_mae: 1.3046\n",
      "Epoch 12/100\n",
      "8/8 [==============================] - 0s 5ms/step - loss: 2.9429 - mae: 1.1092 - val_loss: 2.9807 - val_mae: 1.1588\n",
      "Epoch 13/100\n",
      "8/8 [==============================] - 0s 5ms/step - loss: 2.9309 - mae: 1.1488 - val_loss: 3.0740 - val_mae: 1.1140\n",
      "Epoch 14/100\n",
      "8/8 [==============================] - 0s 4ms/step - loss: 3.1106 - mae: 1.2304 - val_loss: 3.0352 - val_mae: 1.1203\n",
      "Epoch 15/100\n",
      "8/8 [==============================] - 0s 5ms/step - loss: 2.8954 - mae: 1.1528 - val_loss: 2.9188 - val_mae: 1.0935\n",
      "Epoch 16/100\n",
      "8/8 [==============================] - 0s 4ms/step - loss: 3.3160 - mae: 1.2848 - val_loss: 3.4665 - val_mae: 1.2156\n",
      "Epoch 17/100\n",
      "8/8 [==============================] - 0s 5ms/step - loss: 2.6784 - mae: 1.0646 - val_loss: 2.8623 - val_mae: 1.1408\n",
      "Epoch 18/100\n",
      "8/8 [==============================] - 0s 5ms/step - loss: 2.7453 - mae: 1.1289 - val_loss: 4.4933 - val_mae: 1.5108\n",
      "Epoch 19/100\n",
      "8/8 [==============================] - 0s 5ms/step - loss: 2.8727 - mae: 1.1597 - val_loss: 2.9298 - val_mae: 1.0859\n",
      "Epoch 20/100\n",
      "8/8 [==============================] - 0s 4ms/step - loss: 2.8050 - mae: 1.1480 - val_loss: 2.7964 - val_mae: 1.0485\n",
      "Epoch 21/100\n",
      "8/8 [==============================] - 0s 5ms/step - loss: 2.5481 - mae: 1.0761 - val_loss: 2.8600 - val_mae: 1.0495\n",
      "Epoch 22/100\n",
      "8/8 [==============================] - 0s 5ms/step - loss: 2.7155 - mae: 1.1245 - val_loss: 3.8881 - val_mae: 1.3523\n",
      "Epoch 23/100\n",
      "8/8 [==============================] - 0s 9ms/step - loss: 2.4832 - mae: 1.0818 - val_loss: 2.7938 - val_mae: 1.0335\n",
      "Epoch 24/100\n",
      "8/8 [==============================] - 0s 6ms/step - loss: 2.4930 - mae: 1.1040 - val_loss: 2.9187 - val_mae: 1.0594\n",
      "Epoch 25/100\n",
      "8/8 [==============================] - 0s 5ms/step - loss: 2.5774 - mae: 1.1367 - val_loss: 3.3184 - val_mae: 1.4057\n",
      "Epoch 26/100\n",
      "8/8 [==============================] - 0s 4ms/step - loss: 2.5666 - mae: 1.1066 - val_loss: 3.3420 - val_mae: 1.1876\n",
      "Epoch 27/100\n",
      "8/8 [==============================] - 0s 5ms/step - loss: 2.7307 - mae: 1.1464 - val_loss: 2.9953 - val_mae: 1.0923\n",
      "Epoch 28/100\n",
      "8/8 [==============================] - 0s 4ms/step - loss: 2.2694 - mae: 1.0124 - val_loss: 2.6394 - val_mae: 1.0059\n",
      "Epoch 29/100\n",
      "8/8 [==============================] - 0s 5ms/step - loss: 2.5687 - mae: 1.0874 - val_loss: 2.7165 - val_mae: 1.0244\n",
      "Epoch 30/100\n",
      "8/8 [==============================] - 0s 4ms/step - loss: 2.4826 - mae: 1.0962 - val_loss: 3.2768 - val_mae: 1.1825\n",
      "Epoch 31/100\n",
      "8/8 [==============================] - 0s 5ms/step - loss: 2.3383 - mae: 1.0284 - val_loss: 2.5649 - val_mae: 1.0305\n",
      "Epoch 32/100\n",
      "8/8 [==============================] - 0s 4ms/step - loss: 2.2445 - mae: 1.0565 - val_loss: 2.5715 - val_mae: 1.0158\n",
      "Epoch 33/100\n",
      "8/8 [==============================] - 0s 5ms/step - loss: 2.1805 - mae: 1.0221 - val_loss: 3.1367 - val_mae: 1.3556\n",
      "Epoch 34/100\n",
      "8/8 [==============================] - 0s 4ms/step - loss: 2.5195 - mae: 1.1060 - val_loss: 2.6483 - val_mae: 1.0385\n",
      "Epoch 35/100\n",
      "8/8 [==============================] - 0s 4ms/step - loss: 2.0772 - mae: 0.9844 - val_loss: 2.5802 - val_mae: 0.9953\n",
      "Epoch 36/100\n",
      "8/8 [==============================] - 0s 4ms/step - loss: 2.2002 - mae: 1.0444 - val_loss: 2.8632 - val_mae: 1.0490\n",
      "Epoch 37/100\n",
      "8/8 [==============================] - 0s 5ms/step - loss: 2.1585 - mae: 1.0059 - val_loss: 2.6445 - val_mae: 1.1203\n",
      "Epoch 38/100\n",
      "8/8 [==============================] - 0s 4ms/step - loss: 2.1055 - mae: 1.0380 - val_loss: 2.8628 - val_mae: 1.0571\n",
      "Epoch 39/100\n",
      "8/8 [==============================] - 0s 4ms/step - loss: 1.9580 - mae: 0.9645 - val_loss: 2.8499 - val_mae: 1.0955\n",
      "Epoch 40/100\n",
      "8/8 [==============================] - 0s 5ms/step - loss: 2.0088 - mae: 0.9909 - val_loss: 2.6932 - val_mae: 1.0793\n",
      "Epoch 41/100\n",
      "8/8 [==============================] - 0s 5ms/step - loss: 2.0080 - mae: 0.9677 - val_loss: 2.4836 - val_mae: 0.9908\n",
      "Epoch 42/100\n",
      "8/8 [==============================] - 0s 4ms/step - loss: 2.2064 - mae: 1.0635 - val_loss: 3.0250 - val_mae: 1.1198\n",
      "Epoch 43/100\n",
      "8/8 [==============================] - 0s 5ms/step - loss: 1.8030 - mae: 0.9085 - val_loss: 2.5462 - val_mae: 1.0928\n",
      "Epoch 44/100\n",
      "8/8 [==============================] - 0s 4ms/step - loss: 1.8153 - mae: 0.9295 - val_loss: 2.5950 - val_mae: 1.0814\n",
      "Epoch 45/100\n",
      "8/8 [==============================] - 0s 5ms/step - loss: 1.9461 - mae: 1.0015 - val_loss: 2.7148 - val_mae: 0.9890\n",
      "Epoch 46/100\n",
      "8/8 [==============================] - 0s 4ms/step - loss: 1.8022 - mae: 0.9443 - val_loss: 4.7442 - val_mae: 1.6340\n",
      "Epoch 47/100\n",
      "8/8 [==============================] - 0s 4ms/step - loss: 2.2417 - mae: 1.0534 - val_loss: 2.4352 - val_mae: 0.9707\n",
      "Epoch 48/100\n",
      "8/8 [==============================] - 0s 5ms/step - loss: 1.6939 - mae: 0.8816 - val_loss: 2.9705 - val_mae: 1.0679\n",
      "Epoch 49/100\n",
      "8/8 [==============================] - 0s 4ms/step - loss: 1.8010 - mae: 0.9602 - val_loss: 2.6217 - val_mae: 1.0356\n",
      "Epoch 50/100\n",
      "8/8 [==============================] - 0s 4ms/step - loss: 2.1937 - mae: 1.0110 - val_loss: 2.5206 - val_mae: 1.0177\n",
      "Epoch 51/100\n",
      "8/8 [==============================] - 0s 5ms/step - loss: 1.6892 - mae: 0.9207 - val_loss: 2.8333 - val_mae: 1.0404\n",
      "Epoch 52/100\n",
      "8/8 [==============================] - 0s 5ms/step - loss: 1.7946 - mae: 0.9351 - val_loss: 2.4892 - val_mae: 1.0795\n",
      "Epoch 53/100\n",
      "8/8 [==============================] - 0s 6ms/step - loss: 1.6252 - mae: 0.8946 - val_loss: 2.5175 - val_mae: 0.9582\n",
      "Epoch 54/100\n",
      "8/8 [==============================] - 0s 5ms/step - loss: 1.6539 - mae: 0.9085 - val_loss: 2.5375 - val_mae: 0.9754\n",
      "Epoch 55/100\n",
      "8/8 [==============================] - 0s 5ms/step - loss: 1.8012 - mae: 0.9791 - val_loss: 2.4690 - val_mae: 0.9617\n",
      "Epoch 56/100\n",
      "8/8 [==============================] - 0s 5ms/step - loss: 1.8391 - mae: 0.9779 - val_loss: 2.4938 - val_mae: 0.9412\n",
      "Epoch 57/100\n",
      "8/8 [==============================] - 0s 5ms/step - loss: 1.3653 - mae: 0.8114 - val_loss: 2.7131 - val_mae: 1.0061\n",
      "Epoch 58/100\n",
      "8/8 [==============================] - 0s 5ms/step - loss: 1.9125 - mae: 1.0051 - val_loss: 2.7350 - val_mae: 1.0187\n",
      "Epoch 59/100\n",
      "8/8 [==============================] - 0s 5ms/step - loss: 1.6363 - mae: 0.9033 - val_loss: 2.5263 - val_mae: 1.1056\n",
      "Epoch 60/100\n",
      "8/8 [==============================] - 0s 5ms/step - loss: 1.5094 - mae: 0.8676 - val_loss: 2.4433 - val_mae: 1.0171\n",
      "Epoch 61/100\n",
      "8/8 [==============================] - 0s 5ms/step - loss: 1.5283 - mae: 0.8405 - val_loss: 3.3965 - val_mae: 1.4775\n",
      "Epoch 62/100\n",
      "8/8 [==============================] - 0s 5ms/step - loss: 1.6359 - mae: 0.9493 - val_loss: 2.3467 - val_mae: 0.9424\n",
      "Epoch 63/100\n",
      "8/8 [==============================] - 0s 4ms/step - loss: 1.4942 - mae: 0.8462 - val_loss: 2.6082 - val_mae: 1.1206\n",
      "Epoch 64/100\n",
      "8/8 [==============================] - 0s 4ms/step - loss: 1.4329 - mae: 0.8454 - val_loss: 2.7208 - val_mae: 1.1821\n",
      "Epoch 65/100\n",
      "8/8 [==============================] - 0s 4ms/step - loss: 1.2993 - mae: 0.8052 - val_loss: 3.9286 - val_mae: 1.3802\n",
      "Epoch 66/100\n",
      "8/8 [==============================] - 0s 4ms/step - loss: 1.6469 - mae: 0.9234 - val_loss: 2.5912 - val_mae: 0.9781\n",
      "Epoch 67/100\n",
      "8/8 [==============================] - 0s 4ms/step - loss: 1.3299 - mae: 0.8078 - val_loss: 2.6784 - val_mae: 1.0650\n",
      "Epoch 68/100\n",
      "8/8 [==============================] - 0s 4ms/step - loss: 1.6524 - mae: 0.8915 - val_loss: 2.3749 - val_mae: 1.0661\n",
      "Epoch 69/100\n",
      "8/8 [==============================] - 0s 4ms/step - loss: 1.2540 - mae: 0.7874 - val_loss: 3.1138 - val_mae: 1.1512\n",
      "Epoch 70/100\n",
      "8/8 [==============================] - 0s 4ms/step - loss: 1.2869 - mae: 0.8324 - val_loss: 2.4472 - val_mae: 0.9544\n",
      "Epoch 71/100\n",
      "8/8 [==============================] - 0s 4ms/step - loss: 1.2106 - mae: 0.7571 - val_loss: 3.2821 - val_mae: 1.1881\n",
      "Epoch 72/100\n",
      "8/8 [==============================] - 0s 4ms/step - loss: 1.6535 - mae: 0.9318 - val_loss: 2.4108 - val_mae: 0.9759\n",
      "Epoch 73/100\n",
      "8/8 [==============================] - 0s 4ms/step - loss: 1.1889 - mae: 0.7567 - val_loss: 2.3481 - val_mae: 1.0184\n",
      "Epoch 74/100\n",
      "8/8 [==============================] - 0s 4ms/step - loss: 1.2309 - mae: 0.8416 - val_loss: 2.7483 - val_mae: 1.0020\n",
      "Epoch 75/100\n",
      "8/8 [==============================] - 0s 5ms/step - loss: 1.1340 - mae: 0.7802 - val_loss: 2.4629 - val_mae: 0.9495\n",
      "Epoch 76/100\n",
      "8/8 [==============================] - 0s 4ms/step - loss: 1.5502 - mae: 0.8771 - val_loss: 2.3502 - val_mae: 1.0960\n",
      "Epoch 77/100\n",
      "8/8 [==============================] - 0s 5ms/step - loss: 1.3038 - mae: 0.8097 - val_loss: 2.2890 - val_mae: 0.9399\n",
      "Epoch 78/100\n",
      "8/8 [==============================] - 0s 5ms/step - loss: 1.0530 - mae: 0.6977 - val_loss: 2.8987 - val_mae: 1.1157\n",
      "Epoch 79/100\n",
      "8/8 [==============================] - 0s 5ms/step - loss: 1.2617 - mae: 0.8278 - val_loss: 2.4532 - val_mae: 0.9489\n",
      "Epoch 80/100\n",
      "8/8 [==============================] - 0s 4ms/step - loss: 1.0149 - mae: 0.7181 - val_loss: 2.5209 - val_mae: 0.9586\n",
      "Epoch 81/100\n",
      "8/8 [==============================] - 0s 5ms/step - loss: 1.0589 - mae: 0.7397 - val_loss: 4.0646 - val_mae: 1.6973\n",
      "Epoch 82/100\n",
      "8/8 [==============================] - 0s 5ms/step - loss: 1.1986 - mae: 0.7964 - val_loss: 2.1508 - val_mae: 0.9863\n",
      "Epoch 83/100\n",
      "8/8 [==============================] - 0s 4ms/step - loss: 1.2989 - mae: 0.8338 - val_loss: 2.2903 - val_mae: 1.0334\n",
      "Epoch 84/100\n",
      "8/8 [==============================] - 0s 5ms/step - loss: 0.9827 - mae: 0.6924 - val_loss: 2.7536 - val_mae: 1.0228\n",
      "Epoch 85/100\n",
      "8/8 [==============================] - 0s 4ms/step - loss: 1.1948 - mae: 0.7738 - val_loss: 2.2778 - val_mae: 1.0039\n",
      "Epoch 86/100\n",
      "8/8 [==============================] - 0s 4ms/step - loss: 1.1684 - mae: 0.7946 - val_loss: 2.8413 - val_mae: 1.0330\n",
      "Epoch 87/100\n",
      "8/8 [==============================] - 0s 4ms/step - loss: 0.9848 - mae: 0.7009 - val_loss: 2.4397 - val_mae: 1.1217\n",
      "Epoch 88/100\n",
      "8/8 [==============================] - 0s 4ms/step - loss: 1.1075 - mae: 0.7825 - val_loss: 2.4476 - val_mae: 1.1682\n",
      "Epoch 89/100\n",
      "8/8 [==============================] - 0s 5ms/step - loss: 0.8971 - mae: 0.6833 - val_loss: 2.1480 - val_mae: 1.0401\n",
      "Epoch 90/100\n",
      "8/8 [==============================] - 0s 5ms/step - loss: 1.2298 - mae: 0.8386 - val_loss: 2.2325 - val_mae: 0.9137\n",
      "Epoch 91/100\n",
      "8/8 [==============================] - 0s 4ms/step - loss: 1.1258 - mae: 0.7869 - val_loss: 2.4840 - val_mae: 1.1780\n",
      "Epoch 92/100\n",
      "8/8 [==============================] - 0s 4ms/step - loss: 1.0142 - mae: 0.7315 - val_loss: 2.4755 - val_mae: 0.9714\n",
      "Epoch 93/100\n",
      "8/8 [==============================] - 0s 4ms/step - loss: 0.8584 - mae: 0.6531 - val_loss: 2.5547 - val_mae: 1.0012\n",
      "Epoch 94/100\n",
      "8/8 [==============================] - 0s 4ms/step - loss: 0.9972 - mae: 0.7703 - val_loss: 2.1688 - val_mae: 0.9212\n",
      "Epoch 95/100\n",
      "8/8 [==============================] - 0s 4ms/step - loss: 1.1996 - mae: 0.8077 - val_loss: 2.9551 - val_mae: 1.1582\n",
      "Epoch 96/100\n",
      "8/8 [==============================] - 0s 4ms/step - loss: 0.8682 - mae: 0.6595 - val_loss: 2.3883 - val_mae: 0.9802\n",
      "Epoch 97/100\n",
      "8/8 [==============================] - 0s 4ms/step - loss: 1.0530 - mae: 0.7584 - val_loss: 2.1203 - val_mae: 1.0616\n",
      "Epoch 98/100\n",
      "8/8 [==============================] - 0s 4ms/step - loss: 1.0334 - mae: 0.7189 - val_loss: 2.2796 - val_mae: 1.1109\n",
      "Epoch 99/100\n",
      "8/8 [==============================] - 0s 4ms/step - loss: 0.8148 - mae: 0.6648 - val_loss: 2.1954 - val_mae: 1.0909\n",
      "Epoch 100/100\n",
      "8/8 [==============================] - 0s 4ms/step - loss: 1.0665 - mae: 0.7873 - val_loss: 1.9611 - val_mae: 0.9488\n"
     ]
    }
   ],
   "source": [
    "# Entrenamos el modelo\n",
    "history = nn_model.fit(X_train, y_train, epochs=100, validation_split=0.2)"
   ]
  },
  {
   "cell_type": "code",
   "execution_count": 27,
   "metadata": {},
   "outputs": [
    {
     "data": {
      "image/png": "[encoded data removed]",
      "text/plain": [
       "<Figure size 432x288 with 1 Axes>"
      ]
     },
     "metadata": {
      "needs_background": "light"
     },
     "output_type": "display_data"
    }
   ],
   "source": [
    "# Grafica de la evolución del error\n",
    "loss = history.history['loss']\n",
    "val_loss = history.history['val_loss']\n",
    "epochs = range(1, len(loss) + 1)\n",
    "plt.plot(epochs, loss, 'bo', label='Training loss')\n",
    "plt.plot(epochs, val_loss, 'r', label='Validation loss')\n",
    "plt.title('Error de entrenamiento y validación', fontsize=20)\n",
    "plt.xlabel('Epocas', fontsize=15)\n",
    "plt.ylabel('Error', fontsize=15)\n",
    "plt.legend()\n",
    "plt.show()\n"
   ]
  },
  {
   "cell_type": "code",
   "execution_count": 28,
   "metadata": {},
   "outputs": [],
   "source": [
    "# Generamos las predicciones\n",
    "y_nn_model = nn_model.predict(X_test)"
   ]
  },
  {
   "cell_type": "code",
   "execution_count": 29,
   "metadata": {},
   "outputs": [],
   "source": [
    "# Evaluamos el modelo\n",
    "# Error cuadratico medio\n",
    "score_nn_mse = mean_squared_error(y_nn_model, y_test)\n",
    "# Error absoluto medio\n",
    "score_nn_mae = mean_absolute_error(y_nn_model, y_test)"
   ]
  },
  {
   "cell_type": "code",
   "execution_count": 30,
   "metadata": {},
   "outputs": [
    {
     "name": "stdout",
     "output_type": "stream",
     "text": [
      "MSE para el modelo de red neuronal:  3.82\n",
      "MAE para el modelo de red neuronal:  1.31\n"
     ]
    }
   ],
   "source": [
    "# Error de los modelos\n",
    "print('MSE para el modelo de red neuronal: ', round(score_nn_mse, 2))\n",
    "print('MAE para el modelo de red neuronal: ', round(score_nn_mae, 2))"
   ]
  }
 ],
 "metadata": {
  "interpreter": {
   "hash": "f2575392019334285e0602a4035eec46b9260ee4c95297ea34ade6e3c8b8fcaf"
  },
  "kernelspec": {
   "display_name": "Python 3.8.10 64-bit",
   "language": "python",
   "name": "python3"
  },
  "language_info": {
   "codemirror_mode": {
    "name": "ipython",
    "version": 3
   },
   "file_extension": ".py",
   "mimetype": "text/x-python",
   "name": "python",
   "nbconvert_exporter": "python",
   "pygments_lexer": "ipython3",
   "version": "3.8.10"
  },
  "orig_nbformat": 4
 },
 "nbformat": 4,
 "nbformat_minor": 2
}
